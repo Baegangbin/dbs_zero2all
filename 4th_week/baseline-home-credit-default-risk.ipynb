{
 "cells": [
  {
   "cell_type": "code",
   "execution_count": 108,
   "metadata": {},
   "outputs": [],
   "source": [
    "%matplotlib inline\n",
    "import numpy as np\n",
    "import pandas as pd\n",
    "import matplotlib.pyplot as plt\n",
    "import scipy.stats as stats\n",
    "import sklearn.linear_model as linear_model\n",
    "import seaborn as sns\n",
    "from sklearn.model_selection import KFold\n",
    "from IPython.display import HTML, display\n",
    "from sklearn.manifold import TSNE\n",
    "from sklearn.cluster import KMeans\n",
    "from sklearn.decomposition import PCA\n",
    "from sklearn.preprocessing import StandardScaler\n",
    "from sklearn.model_selection import StratifiedShuffleSplit\n",
    "\n",
    "train = pd.read_csv(\"data/application_train.csv\")\n",
    "test = pd.read_csv(\"data/application_test.csv\")"
   ]
  },
  {
   "cell_type": "code",
   "execution_count": 109,
   "metadata": {},
   "outputs": [],
   "source": [
    "#common fuc\n",
    "def error(actual, predicted):\n",
    "    actual = np.log(actual)\n",
    "    predicted = np.log(predicted)\n",
    "    return np.sqrt(np.sum(np.square(actual-predicted))/len(actual))\n",
    "\n",
    "def log_transform(frame, feature):\n",
    "    frame[feature] = np.log1p(frame[feature].values)\n",
    "\n",
    "def quadratic(frame, feature):\n",
    "    frame[feature+'2'] = frame[feature]**2\n",
    "    \n",
    "#customize func    \n",
    "def func_NAME_EDUCATION_TYPE(x):\n",
    "    if x in ('Higher education', 'Academic degree'):\n",
    "        return 1\n",
    "    else:\n",
    "        return 0\n",
    "    \n",
    "def func_NAME_HOUSING_TYPE(x):\n",
    "    if x in ('Maternity leave', 'Unemployede'):\n",
    "        return 1\n",
    "    else:\n",
    "        return 0"
   ]
  },
  {
   "cell_type": "code",
   "execution_count": 110,
   "metadata": {},
   "outputs": [],
   "source": [
    "def feature_processing(frame):\n",
    "    _FLAG_SUM = frame[['FLAG_DOCUMENT_2',\n",
    "                            'FLAG_DOCUMENT_3',\n",
    "                            'FLAG_DOCUMENT_4',\n",
    "                            'FLAG_DOCUMENT_5',\n",
    "                            'FLAG_DOCUMENT_6',\n",
    "                            'FLAG_DOCUMENT_7',\n",
    "                            'FLAG_DOCUMENT_8',\n",
    "                            'FLAG_DOCUMENT_9',\n",
    "                            'FLAG_DOCUMENT_10',\n",
    "                            'FLAG_DOCUMENT_11',\n",
    "                            'FLAG_DOCUMENT_12',\n",
    "                            'FLAG_DOCUMENT_13',\n",
    "                            'FLAG_DOCUMENT_14',\n",
    "                            'FLAG_DOCUMENT_15',\n",
    "                            'FLAG_DOCUMENT_16',\n",
    "                            'FLAG_DOCUMENT_17',\n",
    "                            'FLAG_DOCUMENT_18',\n",
    "                            'FLAG_DOCUMENT_19',\n",
    "                            'FLAG_DOCUMENT_20',\n",
    "                            'FLAG_DOCUMENT_21']]\n",
    "    frame['FLAG_DOCUMENT_SUM'] = _FLAG_SUM.sum(axis=1)\n",
    "\n",
    "    _PHONE_SUM = frame[[\n",
    "        'FLAG_MOBIL',\n",
    "        'FLAG_EMP_PHONE',\n",
    "        'FLAG_WORK_PHONE',\n",
    "        'FLAG_CONT_MOBILE',\n",
    "        'FLAG_PHONE']]\n",
    "    frame['PHONE_SUM'] = _PHONE_SUM.sum(axis=1)\n",
    "\n",
    "    # frame_DAYS_COLS = [col for col in frame.columns if 'DAYS_' in col]\n",
    "    # frame_DAYS_COLS\n",
    "    frame['YEARS_BIRTH'] = frame['DAYS_BIRTH'] * (-1) / 365\n",
    "    frame['YEARS_EMPLOYED'] = frame['DAYS_EMPLOYED'] * (-1) / 365\n",
    "    frame['YEARS_REGISTRATION'] = frame['DAYS_REGISTRATION'] * (-1) / 365\n",
    "    frame['YEARS_ID_PUBLISH'] = frame['DAYS_ID_PUBLISH'] * (-1) / 365\n",
    "    frame['YEARS_LAST_PHONE_CHANGE'] = frame['DAYS_LAST_PHONE_CHANGE'] * (-1) / 365\n",
    "\n",
    "    frame['AMT_INCOME_TOTAL_PER_FAM_MEMBERS'] = frame['AMT_INCOME_TOTAL'] / frame['CNT_FAM_MEMBERS']\n",
    "\n",
    "\n",
    "\n",
    "    frame['NAME_CONTRACT_TYPE'] = frame['NAME_CONTRACT_TYPE'].apply(lambda x: 1 if x =='Cash loans' else 0)\n",
    "    frame['FLAG_OWN_CAR'] = frame['FLAG_OWN_CAR'].apply(lambda x: 1 if x == 'y' else 0)\n",
    "    frame['AMT_INCOME_TOTAL'] = frame['AMT_INCOME_TOTAL'].apply(lambda x: 1 if x > 13.3 else 0)\n",
    "\n",
    "\n",
    "    frame['NAME_EDUCATION_TYPE'] = frame['NAME_EDUCATION_TYPE'].apply(func_NAME_EDUCATION_TYPE)\n",
    "\n",
    "\n",
    "    frame['NAME_HOUSING_TYPE'] = frame['NAME_HOUSING_TYPE'].apply(func_NAME_HOUSING_TYPE)\n",
    "\n",
    "    frame['REGION_POPULATION_RELATIVE'] = frame['REGION_POPULATION_RELATIVE'].apply(lambda x: 1 if x >= 0.02 else 0)\n",
    "    frame['OWN_CAR_AGE'] = frame['OWN_CAR_AGE'].apply(lambda x: 1 if x <= 10 else 0)\n",
    "    \n",
    "#     if isTrain == 'T' :\n",
    "#         frame['ORGANIZATION_spmean'] = frame[['ORGANIZATION_TYPE', 'TARGET']].groupby(['ORGANIZATION_TYPE']).mean()['TARGET']\n",
    "#         frame['ORGANIZATION_TYPE'] = frame['ORGANIZATION_spmean'].apply(lambda x: 1 if x > 0.08 else 0)\n",
    "    \n",
    "feature_processing(train)\n",
    "feature_processing(test)"
   ]
  },
  {
   "cell_type": "code",
   "execution_count": 111,
   "metadata": {},
   "outputs": [],
   "source": [
    "log_transform(train, 'AMT_CREDIT')\n",
    "log_transform(train, 'AMT_ANNUITY')\n",
    "log_transform(train, 'AMT_GOODS_PRICE')\n",
    "log_transform(train, 'AMT_INCOME_TOTAL')\n",
    "\n",
    "log_transform(test, 'AMT_CREDIT')\n",
    "log_transform(test, 'AMT_ANNUITY')\n",
    "log_transform(test, 'AMT_GOODS_PRICE')\n",
    "log_transform(test, 'AMT_INCOME_TOTAL')"
   ]
  },
  {
   "cell_type": "code",
   "execution_count": 112,
   "metadata": {},
   "outputs": [],
   "source": [
    "def drop_columns(frame):   \n",
    "    frame = frame.drop(columns=['APARTMENTS_MEDI',\n",
    "                                'BASEMENTAREA_MEDI',\n",
    "                                'YEARS_BEGINEXPLUATATION_MEDI',\n",
    "                                'YEARS_BUILD_MEDI',\n",
    "                                'COMMONAREA_MEDI',\n",
    "                                'ELEVATORS_MEDI',\n",
    "                                'ENTRANCES_MEDI',\n",
    "                                'FLOORSMAX_MEDI',\n",
    "                                'FLOORSMIN_MEDI',\n",
    "                                'LANDAREA_MEDI',\n",
    "                                'LIVINGAPARTMENTS_MEDI',\n",
    "                                'LIVINGAREA_MEDI',\n",
    "                                'NONLIVINGAPARTMENTS_MEDI',\n",
    "                                'NONLIVINGAREA_MEDI',\n",
    "                                'APARTMENTS_MODE',\n",
    "                                'BASEMENTAREA_MODE',\n",
    "                                'YEARS_BEGINEXPLUATATION_MODE',\n",
    "                                'YEARS_BUILD_MODE',\n",
    "                                'COMMONAREA_MODE',\n",
    "                                'ELEVATORS_MODE',\n",
    "                                'ENTRANCES_MODE',\n",
    "                                'FLOORSMAX_MODE',\n",
    "                                'FLOORSMIN_MODE',\n",
    "                                'LANDAREA_MODE',\n",
    "                                'LIVINGAPARTMENTS_MODE',\n",
    "                                'LIVINGAREA_MODE',\n",
    "                                'NONLIVINGAPARTMENTS_MODE',\n",
    "                                'NONLIVINGAREA_MODE',\n",
    "                                'FONDKAPREMONT_MODE',\n",
    "                                'HOUSETYPE_MODE',\n",
    "                                'TOTALAREA_MODE',\n",
    "                                'WALLSMATERIAL_MODE',\n",
    "                                'EMERGENCYSTATE_MODE',\n",
    "                                'APARTMENTS_AVG',\n",
    "                                'BASEMENTAREA_AVG',\n",
    "                                'YEARS_BEGINEXPLUATATION_AVG',\n",
    "                                'YEARS_BUILD_AVG',\n",
    "                                'COMMONAREA_AVG',\n",
    "                                'ELEVATORS_AVG',\n",
    "                                'ENTRANCES_AVG',\n",
    "                                'FLOORSMAX_AVG',\n",
    "                                'FLOORSMIN_AVG',\n",
    "                                'LANDAREA_AVG',\n",
    "                                'LIVINGAPARTMENTS_AVG',\n",
    "                                'LIVINGAREA_AVG',\n",
    "                                'NONLIVINGAPARTMENTS_AVG',\n",
    "                                'NONLIVINGAREA_AVG'\n",
    "                                ,\n",
    "                                'FLAG_DOCUMENT_2',\n",
    "                                'FLAG_DOCUMENT_3',\n",
    "                                'FLAG_DOCUMENT_4',\n",
    "                                'FLAG_DOCUMENT_5',\n",
    "                                'FLAG_DOCUMENT_6',\n",
    "                                'FLAG_DOCUMENT_7',\n",
    "                                'FLAG_DOCUMENT_8',\n",
    "                                'FLAG_DOCUMENT_9',\n",
    "                                'FLAG_DOCUMENT_10',\n",
    "                                'FLAG_DOCUMENT_11',\n",
    "                                'FLAG_DOCUMENT_12',\n",
    "                                'FLAG_DOCUMENT_13',\n",
    "                                'FLAG_DOCUMENT_14',\n",
    "                                'FLAG_DOCUMENT_15',\n",
    "                                'FLAG_DOCUMENT_16',\n",
    "                                'FLAG_DOCUMENT_17',\n",
    "                                'FLAG_DOCUMENT_18',\n",
    "                                'FLAG_DOCUMENT_19',\n",
    "                                'FLAG_DOCUMENT_20',\n",
    "                                'FLAG_DOCUMENT_21',\n",
    "                                'FLAG_MOBIL',\n",
    "                                'FLAG_EMP_PHONE',\n",
    "                                'FLAG_WORK_PHONE',\n",
    "                                'FLAG_CONT_MOBILE',\n",
    "                                'FLAG_PHONE'\n",
    "                                ,\n",
    "#                                 'ORGANIZATION_spmean'\n",
    "#                                 ,\n",
    "                                'SK_ID_CURR'\n",
    "                                ,\n",
    "                                'DAYS_BIRTH',\n",
    "                                'DAYS_EMPLOYED',\n",
    "                                'DAYS_REGISTRATION',\n",
    "                                'DAYS_ID_PUBLISH',\n",
    "                                'DAYS_LAST_PHONE_CHANGE'\n",
    "                                ])\n",
    "\n",
    "drop_columns(train)\n",
    "drop_columns(test)"
   ]
  },
  {
   "cell_type": "code",
   "execution_count": 113,
   "metadata": {},
   "outputs": [],
   "source": [
    "numerical = [f for f in train.columns if train.dtypes[f] != 'object']\n",
    "numerical.remove('TARGET')\n",
    "categorical = [f for f in train.columns if train.dtypes[f] == 'object']"
   ]
  },
  {
   "cell_type": "code",
   "execution_count": 114,
   "metadata": {},
   "outputs": [],
   "source": [
    "def categorical_processing(frame):\n",
    "    for c in categorical:\n",
    "        frame[c] = frame[c].astype('category')\n",
    "        if frame[c].isnull().any():\n",
    "            frame[c] = frame[c].cat.add_categories(['MISSING'])\n",
    "            frame[c] = frame[c].fillna('MISSING')\n",
    "\n",
    "categorical_processing(train)    \n",
    "categorical_processing(test)"
   ]
  },
  {
   "cell_type": "code",
   "execution_count": 115,
   "metadata": {},
   "outputs": [],
   "source": [
    "def encode(frame, feature):\n",
    "    ordering = pd.DataFrame()\n",
    "    ordering['val'] = frame[feature].unique()\n",
    "    ordering.index = ordering.val\n",
    "    # ordering['spmean'] = frame[[feature, 'TARGET']].groupby(feature).mean()['TARGET']\n",
    "    # ordering = ordering.sort_values('spmean')\n",
    "    ordering['ordering'] = range(1, ordering.shape[0]+1)\n",
    "    ordering = ordering['ordering'].to_dict()\n",
    "\n",
    "    for cat, o in ordering.items():\n",
    "        frame.loc[frame[feature] == cat, feature+'_E'] = o\n",
    "\n",
    "cate_encoded = []\n",
    "for q in categorical:\n",
    "    encode(train, q)\n",
    "    encode(test, q)\n",
    "    cate_encoded.append(q+'_E')\n",
    "# print(cate_encoded)"
   ]
  },
  {
   "cell_type": "code",
   "execution_count": 120,
   "metadata": {},
   "outputs": [],
   "source": [
    "split = StratifiedShuffleSplit(n_splits=5, test_size=0.3, random_state=42)\n",
    "for train_index, test_index in split.split(train, train[\"NAME_INCOME_TYPE\"]):\n",
    "    train_set = train.loc[train_index]\n",
    "    test_set = train.loc[test_index]"
   ]
  },
  {
   "cell_type": "code",
   "execution_count": 122,
   "metadata": {},
   "outputs": [],
   "source": [
    "features = numerical + cate_encoded\n",
    "\n",
    "# X_train = train[features].fillna(0.).values\n",
    "# y_train = train['TARGET'].values\n",
    "X_test = test[features].fillna(0.).values\n",
    "\n",
    "\n",
    "X_train = train_set[features].fillna(0.).values\n",
    "y_train = train_set['TARGET'].values\n",
    "X_test_set = test_set[features].fillna(0.).values\n",
    "y_test_set = test_set['TARGET'].values"
   ]
  },
  {
   "cell_type": "code",
   "execution_count": 123,
   "metadata": {},
   "outputs": [],
   "source": [
    "from imblearn.over_sampling import SMOTE\n",
    "X_resampled, y_resampled = SMOTE().fit_sample(X_train, y_train)\n"
   ]
  },
  {
   "cell_type": "code",
   "execution_count": 98,
   "metadata": {},
   "outputs": [
    {
     "data": {
      "text/plain": [
       "0.611076092665894"
      ]
     },
     "execution_count": 98,
     "metadata": {},
     "output_type": "execute_result"
    }
   ],
   "source": [
    "from sklearn import datasets\n",
    "from sklearn.feature_selection import RFE\n",
    "from sklearn.linear_model import LogisticRegression\n",
    "from sklearn.metrics import roc_auc_score\n",
    "\n",
    "logreg = LogisticRegression()\n",
    "logreg.fit(X_resampled, y_resampled) \n",
    "y_pred = logreg.predict_proba(X_test)[:,1]\n",
    "roc_auc_score(y_test, y_pred) # 0.6373158605096496"
   ]
  },
  {
   "cell_type": "code",
   "execution_count": 99,
   "metadata": {},
   "outputs": [
    {
     "data": {
      "text/plain": [
       "0.6433452197102968"
      ]
     },
     "execution_count": 99,
     "metadata": {},
     "output_type": "execute_result"
    }
   ],
   "source": [
    "logreg_10 = LogisticRegression(C=10)\n",
    "logreg_10.fit(X_resampled, y_resampled)\n",
    "y_pred_10 = logreg_10.predict_proba(X_test)[:,1]\n",
    "roc_auc_score(y_test, y_pred_10) # 0.6221440069544937"
   ]
  },
  {
   "cell_type": "code",
   "execution_count": 100,
   "metadata": {},
   "outputs": [
    {
     "data": {
      "text/plain": [
       "0.6126248017069886"
      ]
     },
     "execution_count": 100,
     "metadata": {},
     "output_type": "execute_result"
    }
   ],
   "source": [
    "logreg_0_1 = LogisticRegression(C=0.1)\n",
    "logreg_0_1.fit(X_resampled, y_resampled)\n",
    "y_pred_0_1 = logreg_0_1.predict_proba(X_test)[:,1]\n",
    "roc_auc_score(y_test, y_pred_0_1) # 0.6153402506562919"
   ]
  },
  {
   "cell_type": "code",
   "execution_count": 101,
   "metadata": {},
   "outputs": [
    {
     "data": {
      "text/plain": [
       "0.594616189715705"
      ]
     },
     "execution_count": 101,
     "metadata": {},
     "output_type": "execute_result"
    }
   ],
   "source": [
    "logreg_00_1 = LogisticRegression(C=0.01)\n",
    "logreg_00_1.fit(X_resampled, y_resampled)\n",
    "y_pred_00_1 = logreg_00_1.predict_proba(X_test)[:,1]\n",
    "roc_auc_score(y_test, y_pred_00_1) # 0.658615496478248\n"
   ]
  },
  {
   "cell_type": "code",
   "execution_count": 102,
   "metadata": {},
   "outputs": [
    {
     "data": {
      "text/plain": [
       "0.7128036728221188"
      ]
     },
     "execution_count": 102,
     "metadata": {},
     "output_type": "execute_result"
    }
   ],
   "source": [
    "from sklearn.ensemble import RandomForestClassifier\n",
    "from sklearn.model_selection import GridSearchCV\n",
    "\n",
    "rf = RandomForestClassifier(n_estimators=500, max_leaf_nodes=16, n_jobs=-1, random_state=42)\n",
    "rf.fit(X_train, y_train)            # 0.7190124215159207\n",
    "# rf.fit(X_resampled, y_resampled)  # 0.6841750535878548 \n",
    "y_pred_rf = rf.predict_proba(X_test)[:, 1]\n",
    "roc_auc_score(y_test, y_pred_rf) \n"
   ]
  },
  {
   "cell_type": "code",
   "execution_count": 20,
   "metadata": {},
   "outputs": [],
   "source": [
    "# importances = rf.feature_importances_\n",
    "# indices = np.argsort(importances)[::-1]\n",
    "# \n",
    "# Print the feature ranking\n",
    "# print(\"Feature ranking:\")\n",
    "# \n",
    "# for f in range(X_train.shape[1]):\n",
    "#     print(\"%d. feature %d (%f)\" % (f + 1, indices[f], importances[indices[f]]))"
   ]
  },
  {
   "cell_type": "code",
   "execution_count": 103,
   "metadata": {},
   "outputs": [
    {
     "name": "stderr",
     "output_type": "stream",
     "text": [
      "/anaconda3/lib/python3.6/site-packages/sklearn/discriminant_analysis.py:388: UserWarning: Variables are collinear.\n",
      "  warnings.warn(\"Variables are collinear.\")\n"
     ]
    },
    {
     "data": {
      "text/plain": [
       "0.7194741707011784"
      ]
     },
     "execution_count": 103,
     "metadata": {},
     "output_type": "execute_result"
    }
   ],
   "source": [
    "from sklearn.discriminant_analysis import LinearDiscriminantAnalysis as LDA\n",
    "from sklearn.discriminant_analysis import QuadraticDiscriminantAnalysis as QDA\n",
    "\n",
    "lda = LDA()\n",
    "lda.fit(X_train, y_train)           # 0.7211824305608072\n",
    "# lda.fit(X_resampled, y_resampled)   # 0.7209399233541647\n",
    "y_pred_lda = lda.predict_proba(X_test)[:,1]\n",
    "roc_auc_score(y_test, y_pred_lda) "
   ]
  },
  {
   "cell_type": "code",
   "execution_count": 22,
   "metadata": {},
   "outputs": [
    {
     "name": "stderr",
     "output_type": "stream",
     "text": [
      "/anaconda3/lib/python3.6/site-packages/sklearn/discriminant_analysis.py:682: UserWarning: Variables are collinear\n",
      "  warnings.warn(\"Variables are collinear\")\n"
     ]
    },
    {
     "data": {
      "text/plain": [
       "0.6290432696915695"
      ]
     },
     "execution_count": 22,
     "metadata": {},
     "output_type": "execute_result"
    }
   ],
   "source": [
    "# qda =QDA()\n",
    "# qda.fit(X_train, y_train)           # 0.5799225915230429\n",
    "# qda.fit(X_resampled, y_resampled)     # 0.6290432696915695\n",
    "# y_pred_qda = qda.predict_proba(X_test)[:,1]\n",
    "# roc_auc_score(y_test, y_pred_qda)"
   ]
  },
  {
   "cell_type": "code",
   "execution_count": 23,
   "metadata": {},
   "outputs": [],
   "source": [
    "# from sklearn.svm import SVC\n",
    "# svc = SVC(random_state=0, probability=True)\n",
    "# # svc.fit(X_train, y_train)\n",
    "# svc.fit(X_resampled, y_resampled)\n",
    "# y_pred_svc = svc.predict_proba(X_test)[:, 1]\n",
    "# roc_auc_score(y_test, y_pred_svc)\n"
   ]
  },
  {
   "cell_type": "code",
   "execution_count": null,
   "metadata": {},
   "outputs": [],
   "source": []
  },
  {
   "cell_type": "code",
   "execution_count": 104,
   "metadata": {},
   "outputs": [
    {
     "name": "stderr",
     "output_type": "stream",
     "text": [
      "/anaconda3/lib/python3.6/site-packages/sklearn/discriminant_analysis.py:388: UserWarning: Variables are collinear.\n",
      "  warnings.warn(\"Variables are collinear.\")\n"
     ]
    },
    {
     "data": {
      "text/plain": [
       "0.7130636693391459"
      ]
     },
     "execution_count": 104,
     "metadata": {},
     "output_type": "execute_result"
    }
   ],
   "source": [
    "import sklearn\n",
    "from brew.base import Ensemble, EnsembleClassifier\n",
    "from brew.stacking.stacker import EnsembleStack, EnsembleStackClassifier\n",
    "from brew.combination.combiner import Combiner\n",
    "\n",
    "# Creating Ensemble\n",
    "ensemble = Ensemble([logreg_0_1, rf, lda])\n",
    "eclf = EnsembleClassifier(ensemble=ensemble, combiner=Combiner('mean'))\n",
    "\n",
    "eclf.fit(X_resampled, y_resampled) # 0.720510230719374\n",
    "# eclf.fit(X_train, y_train)           # 0.7082597786530709\n",
    "y_pred_ensemble = eclf.predict_proba(X_test)[:, 1]\n",
    "roc_auc_score(y_test, y_pred_ensemble)     "
   ]
  },
  {
   "cell_type": "code",
   "execution_count": 105,
   "metadata": {},
   "outputs": [
    {
     "name": "stderr",
     "output_type": "stream",
     "text": [
      "/anaconda3/lib/python3.6/site-packages/sklearn/discriminant_analysis.py:388: UserWarning: Variables are collinear.\n",
      "  warnings.warn(\"Variables are collinear.\")\n",
      "/anaconda3/lib/python3.6/site-packages/sklearn/discriminant_analysis.py:388: UserWarning: Variables are collinear.\n",
      "  warnings.warn(\"Variables are collinear.\")\n",
      "/anaconda3/lib/python3.6/site-packages/sklearn/discriminant_analysis.py:388: UserWarning: Variables are collinear.\n",
      "  warnings.warn(\"Variables are collinear.\")\n",
      "/anaconda3/lib/python3.6/site-packages/sklearn/discriminant_analysis.py:388: UserWarning: Variables are collinear.\n",
      "  warnings.warn(\"Variables are collinear.\")\n"
     ]
    },
    {
     "data": {
      "text/plain": [
       "0.7227254393559674"
      ]
     },
     "execution_count": 105,
     "metadata": {},
     "output_type": "execute_result"
    }
   ],
   "source": [
    "# Creating Stacking\n",
    "layer_1 = Ensemble([logreg_0_1, rf, lda])\n",
    "layer_2 = Ensemble([sklearn.clone(logreg_0_1)])\n",
    "stack = EnsembleStack(cv=3)\n",
    "stack.add_layer(layer_1)\n",
    "stack.add_layer(layer_2)\n",
    "\n",
    "sclf = EnsembleStackClassifier(stack)\n",
    "\n",
    "# sclf.fit(X_resampled, y_resampled) # 0.6557789148329445\n",
    "sclf.fit(X_train, y_train)           # 0.7247774845417322\n",
    "y_pred_stack = sclf.predict_proba(X_test)[:, 1]\n",
    "roc_auc_score(y_test, y_pred_stack)    \n"
   ]
  },
  {
   "cell_type": "code",
   "execution_count": 124,
   "metadata": {},
   "outputs": [
    {
     "name": "stdout",
     "output_type": "stream",
     "text": [
      "[1]\tvalid_0's auc: 0.698063\tvalid_0's l2: 0.0742975\n",
      "Training until validation scores don't improve for 5 rounds.\n",
      "[2]\tvalid_0's auc: 0.703834\tvalid_0's l2: 0.0739496\n",
      "[3]\tvalid_0's auc: 0.710396\tvalid_0's l2: 0.0737181\n",
      "[4]\tvalid_0's auc: 0.713534\tvalid_0's l2: 0.073414\n",
      "[5]\tvalid_0's auc: 0.714685\tvalid_0's l2: 0.0731426\n",
      "[6]\tvalid_0's auc: 0.715765\tvalid_0's l2: 0.0728919\n",
      "[7]\tvalid_0's auc: 0.715841\tvalid_0's l2: 0.0726669\n",
      "[8]\tvalid_0's auc: 0.716341\tvalid_0's l2: 0.0724565\n",
      "[9]\tvalid_0's auc: 0.717728\tvalid_0's l2: 0.0722567\n",
      "[10]\tvalid_0's auc: 0.722815\tvalid_0's l2: 0.072134\n",
      "[11]\tvalid_0's auc: 0.72424\tvalid_0's l2: 0.0719841\n",
      "[12]\tvalid_0's auc: 0.725156\tvalid_0's l2: 0.0718427\n",
      "[13]\tvalid_0's auc: 0.725968\tvalid_0's l2: 0.0716795\n",
      "[14]\tvalid_0's auc: 0.726247\tvalid_0's l2: 0.0715674\n",
      "[15]\tvalid_0's auc: 0.726843\tvalid_0's l2: 0.0714255\n",
      "[16]\tvalid_0's auc: 0.727099\tvalid_0's l2: 0.0712983\n",
      "[17]\tvalid_0's auc: 0.727225\tvalid_0's l2: 0.0711978\n",
      "[18]\tvalid_0's auc: 0.728034\tvalid_0's l2: 0.071081\n",
      "[19]\tvalid_0's auc: 0.72816\tvalid_0's l2: 0.070982\n",
      "[20]\tvalid_0's auc: 0.728274\tvalid_0's l2: 0.070887\n",
      "Did not meet early stopping. Best iteration is:\n",
      "[20]\tvalid_0's auc: 0.728274\tvalid_0's l2: 0.070887\n",
      "Save model...\n",
      "Start predicting...\n"
     ]
    }
   ],
   "source": [
    "import lightgbm as lgb\n",
    "\n",
    "# create dataset for lightgbm\n",
    "# lgb_train = lgb.Dataset(X_resampled, y_resampled) # 0.7032034257774565\n",
    "lgb_train = lgb.Dataset(X_train, y_train)           # 0.7310050369948817\n",
    "lgb_eval = lgb.Dataset(X_test_set, y_test_set, reference=lgb_train)\n",
    "\n",
    "# specify your configurations as a dict\n",
    "params = {\n",
    "    'task': 'train',\n",
    "    'boosting_type': 'gbdt',\n",
    "    'objective': 'regression',\n",
    "    'metric': {'l2', 'auc'},\n",
    "    'num_leaves': 31,\n",
    "    'learning_rate': 0.05,\n",
    "    'feature_fraction': 0.9,\n",
    "    'bagging_fraction': 0.8,\n",
    "    'bagging_freq': 5,\n",
    "    'verbose': 0\n",
    "}\n",
    "\n",
    "gbm = lgb.train(params,\n",
    "                lgb_train,\n",
    "                num_boost_round=20,\n",
    "                 valid_sets=lgb_eval,\n",
    "                early_stopping_rounds=5)\n",
    "\n",
    "print('Save model...')\n",
    "# save model to file\n",
    "gbm.save_model('model.txt')\n",
    "\n",
    "print('Start predicting...')\n",
    "# predict\n",
    "y_pred_gbm = gbm.predict(X_test, num_iteration=gbm.best_iteration)\n",
    "# roc_auc_score(y_test, y_pred_gbm) \n"
   ]
  },
  {
   "cell_type": "code",
   "execution_count": 94,
   "metadata": {},
   "outputs": [],
   "source": [
    "from sklearn.ensemble import AdaBoostClassifier\n",
    "from sklearn.tree import DecisionTreeClassifier\n",
    "\n",
    "ada_clf = AdaBoostClassifier( DecisionTreeClassifier(max_depth=1), n_estimators=200, algorithm=\"SAMME.R\", learning_rate=0.5)\n",
    "# ada_clf.fit(X_resampled, y_resampled) # 0.7121451170928985\n",
    "ada_clf.fit(X_train, y_train)           # 0.7458267768231585\n",
    "y_pred_ada = ada_clf.predict_proba(X_test)[:, 1]\n",
    "roc_auc_score(y_test, y_pred_ada)    "
   ]
  },
  {
   "cell_type": "code",
   "execution_count": 107,
   "metadata": {},
   "outputs": [
    {
     "data": {
      "text/plain": [
       "0.7256956739415097"
      ]
     },
     "execution_count": 107,
     "metadata": {},
     "output_type": "execute_result"
    }
   ],
   "source": [
    "from sklearn.ensemble import GradientBoostingClassifier\n",
    "\n",
    "gbrt = GradientBoostingClassifier(max_depth=1, random_state=0).fit(X_train, y_train)          # 0.7257854798881231\n",
    "# gbrt = GradientBoostingClassifier(max_depth=1, random_state=0).fit(X_resampled, y_resampled)    # 0.6811196557588269\n",
    "y_pred_gbrt = gbrt.predict_proba(X_test)[:, 1]\n",
    "roc_auc_score(y_test, y_pred_gbrt)  \n",
    "\n",
    "\n"
   ]
  },
  {
   "cell_type": "code",
   "execution_count": null,
   "metadata": {},
   "outputs": [],
   "source": []
  },
  {
   "cell_type": "code",
   "execution_count": null,
   "metadata": {},
   "outputs": [],
   "source": []
  },
  {
   "cell_type": "code",
   "execution_count": null,
   "metadata": {},
   "outputs": [],
   "source": []
  },
  {
   "cell_type": "code",
   "execution_count": null,
   "metadata": {},
   "outputs": [],
   "source": []
  },
  {
   "cell_type": "code",
   "execution_count": null,
   "metadata": {},
   "outputs": [],
   "source": []
  },
  {
   "cell_type": "code",
   "execution_count": 125,
   "metadata": {},
   "outputs": [],
   "source": [
    "my_submission = pd.DataFrame({'SK_ID_CURR': test.SK_ID_CURR, 'TARGET': y_pred_gbm})\n",
    "my_submission.to_csv('submission_lightgbm.csv', index=False)"
   ]
  },
  {
   "cell_type": "code",
   "execution_count": null,
   "metadata": {},
   "outputs": [],
   "source": []
  }
 ],
 "metadata": {
  "kernelspec": {
   "display_name": "Python 3",
   "language": "python",
   "name": "python3"
  },
  "language_info": {
   "codemirror_mode": {
    "name": "ipython",
    "version": 3
   },
   "file_extension": ".py",
   "mimetype": "text/x-python",
   "name": "python",
   "nbconvert_exporter": "python",
   "pygments_lexer": "ipython3",
   "version": "3.6.4"
  }
 },
 "nbformat": 4,
 "nbformat_minor": 1
}
