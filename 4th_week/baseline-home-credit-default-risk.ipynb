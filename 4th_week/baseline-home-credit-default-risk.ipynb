{
 "cells": [
  {
   "cell_type": "code",
   "execution_count": 2,
   "metadata": {
    "collapsed": true
   },
   "outputs": [],
   "source": [
    "%matplotlib inline\n",
    "import numpy as np\n",
    "import pandas as pd\n",
    "import matplotlib.pyplot as plt\n",
    "import scipy.stats as stats\n",
    "import sklearn.linear_model as linear_model\n",
    "import seaborn as sns\n",
    "from sklearn.model_selection import KFold\n",
    "from IPython.display import HTML, display\n",
    "from sklearn.manifold import TSNE\n",
    "from sklearn.cluster import KMeans\n",
    "from sklearn.decomposition import PCA\n",
    "from sklearn.preprocessing import StandardScaler\n",
    "from sklearn.model_selection import StratifiedShuffleSplit\n",
    "\n",
    "train = pd.read_csv(\"4th_week/data/application_train.csv\")\n",
    "test = pd.read_csv(\"4th_week/data/application_test.csv\")"
   ]
  },
  {
   "cell_type": "code",
   "execution_count": 3,
   "metadata": {},
   "outputs": [],
   "source": [
    "TRAIN_FLAG_SUM = train[['FLAG_DOCUMENT_2',\n",
    "                        'FLAG_DOCUMENT_3',\n",
    "                        'FLAG_DOCUMENT_4',\n",
    "                        'FLAG_DOCUMENT_5',\n",
    "                        'FLAG_DOCUMENT_6',\n",
    "                        'FLAG_DOCUMENT_7',\n",
    "                        'FLAG_DOCUMENT_8',\n",
    "                        'FLAG_DOCUMENT_9',\n",
    "                        'FLAG_DOCUMENT_10',\n",
    "                        'FLAG_DOCUMENT_11',\n",
    "                        'FLAG_DOCUMENT_12',\n",
    "                        'FLAG_DOCUMENT_13',\n",
    "                        'FLAG_DOCUMENT_14',\n",
    "                        'FLAG_DOCUMENT_15',\n",
    "                        'FLAG_DOCUMENT_16',\n",
    "                        'FLAG_DOCUMENT_17',\n",
    "                        'FLAG_DOCUMENT_18',\n",
    "                        'FLAG_DOCUMENT_19',\n",
    "                        'FLAG_DOCUMENT_20',\n",
    "                        'FLAG_DOCUMENT_21']]\n",
    "train['FLAG_DOCUMENT_SUM'] = TRAIN_FLAG_SUM.sum(axis=1)"
   ]
  },
  {
   "cell_type": "code",
   "execution_count": 4,
   "metadata": {},
   "outputs": [],
   "source": [
    "TRAIN_PHONE_SUM = train[[\n",
    "    'FLAG_MOBIL',\n",
    "    'FLAG_EMP_PHONE',\n",
    "    'FLAG_WORK_PHONE',\n",
    "    'FLAG_CONT_MOBILE',\n",
    "    'FLAG_PHONE']]\n",
    "train['PHONE_SUM'] = TRAIN_PHONE_SUM.sum(axis=1)"
   ]
  },
  {
   "cell_type": "code",
   "execution_count": 5,
   "metadata": {
    "collapsed": true
   },
   "outputs": [],
   "source": [
    "missing = train.isnull().sum()\n",
    "missing = missing[missing >0]\n",
    "missing.sort_values(inplace=True)\n",
    "# missing.plot.bar()"
   ]
  },
  {
   "cell_type": "code",
   "execution_count": 6,
   "metadata": {
    "collapsed": true
   },
   "outputs": [],
   "source": [
    "# missing"
   ]
  },
  {
   "cell_type": "code",
   "execution_count": 7,
   "metadata": {},
   "outputs": [],
   "source": []
  },
  {
   "cell_type": "code",
   "execution_count": 7,
   "metadata": {},
   "outputs": [],
   "source": [
    "train = train.drop(columns=['APARTMENTS_MEDI',\n",
    "                            'BASEMENTAREA_MEDI',\n",
    "                            'YEARS_BEGINEXPLUATATION_MEDI',\n",
    "                            'YEARS_BUILD_MEDI',\n",
    "                            'COMMONAREA_MEDI',\n",
    "                            'ELEVATORS_MEDI',\n",
    "                            'ENTRANCES_MEDI',\n",
    "                            'FLOORSMAX_MEDI',\n",
    "                            'FLOORSMIN_MEDI',\n",
    "                            'LANDAREA_MEDI',\n",
    "                            'LIVINGAPARTMENTS_MEDI',\n",
    "                            'LIVINGAREA_MEDI',\n",
    "                            'NONLIVINGAPARTMENTS_MEDI',\n",
    "                            'NONLIVINGAREA_MEDI',\n",
    "                            'APARTMENTS_MODE',\n",
    "                            'BASEMENTAREA_MODE',\n",
    "                            'YEARS_BEGINEXPLUATATION_MODE',\n",
    "                            'YEARS_BUILD_MODE',\n",
    "                            'COMMONAREA_MODE',\n",
    "                            'ELEVATORS_MODE',\n",
    "                            'ENTRANCES_MODE',\n",
    "                            'FLOORSMAX_MODE',\n",
    "                            'FLOORSMIN_MODE',\n",
    "                            'LANDAREA_MODE',\n",
    "                            'LIVINGAPARTMENTS_MODE',\n",
    "                            'LIVINGAREA_MODE',\n",
    "                            'NONLIVINGAPARTMENTS_MODE',\n",
    "                            'NONLIVINGAREA_MODE',\n",
    "                            'FONDKAPREMONT_MODE',\n",
    "                            'HOUSETYPE_MODE',\n",
    "                            'TOTALAREA_MODE',\n",
    "                            'WALLSMATERIAL_MODE',\n",
    "                            'EMERGENCYSTATE_MODE'\n",
    "                            ,\n",
    "                            'FLAG_DOCUMENT_2',\n",
    "                            'FLAG_DOCUMENT_3',\n",
    "                            'FLAG_DOCUMENT_4',\n",
    "                            'FLAG_DOCUMENT_5',\n",
    "                            'FLAG_DOCUMENT_6',\n",
    "                            'FLAG_DOCUMENT_7',\n",
    "                            'FLAG_DOCUMENT_8',\n",
    "                            'FLAG_DOCUMENT_9',\n",
    "                            'FLAG_DOCUMENT_10',\n",
    "                            'FLAG_DOCUMENT_11',\n",
    "                            'FLAG_DOCUMENT_12',\n",
    "                            'FLAG_DOCUMENT_13',\n",
    "                            'FLAG_DOCUMENT_14',\n",
    "                            'FLAG_DOCUMENT_15',\n",
    "                            'FLAG_DOCUMENT_16',\n",
    "                            'FLAG_DOCUMENT_17',\n",
    "                            'FLAG_DOCUMENT_18',\n",
    "                            'FLAG_DOCUMENT_19',\n",
    "                            'FLAG_DOCUMENT_20',\n",
    "                            'FLAG_DOCUMENT_21',\n",
    "                            'FLAG_MOBIL',\n",
    "                            'FLAG_EMP_PHONE',\n",
    "                            'FLAG_WORK_PHONE',\n",
    "                            'FLAG_CONT_MOBILE',\n",
    "                            'FLAG_PHONE'\n",
    "                            ])"
   ]
  },
  {
   "cell_type": "code",
   "execution_count": 8,
   "metadata": {},
   "outputs": [],
   "source": [
    "log_transform('AMT_CREDIT')\n",
    "log_transform('AMT_ANNUITY')\n",
    "log_transform('AMT_GOODS_PRICE')\n",
    "log_transform('AMT_INCOME_TOTAL')\n",
    "\n",
    "train['NAME_CONTRACT_TYPE'] = train['NAME_CONTRACT_TYPE'].apply(lambda x: 1 if x == 'Cash loans' else 0)\n",
    "train['FLAG_OWN_CAR'] = train['FLAG_OWN_CAR'].apply(lambda x: 1 if x == 'y' else 0)\n",
    "train['AMT_INCOME_TOTAL'] = train['AMT_INCOME_TOTAL'].apply(lambda x: 1 if x > 13.3 else 0)\n",
    "\n",
    "def func_NAME_EDUCATION_TYPE(x):\n",
    "    if x == 'Higher education':\n",
    "        return 1\n",
    "    elif x == 'Academic degree':\n",
    "        return 1\n",
    "    else:\n",
    "        return 0\n",
    "train['NAME_EDUCATION_TYPE'] = train['NAME_EDUCATION_TYPE'].apply(func_NAME_EDUCATION_TYPE)\n",
    "\n",
    "def func_NAME_HOUSING_TYPE(x):\n",
    "    if x == 'Maternity leave':\n",
    "        return 1\n",
    "    elif x == 'Unemployede':\n",
    "        return 1\n",
    "    else:\n",
    "        return 0\n",
    "train['NAME_HOUSING_TYPE'] = train['NAME_HOUSING_TYPE'].apply(func_NAME_HOUSING_TYPE)\n",
    "\n",
    "train['REGION_POPULATION_RELATIVE'] = train['REGION_POPULATION_RELATIVE'].apply(lambda x: 1 if x >= 0.02 else 0)\n",
    "train['OWN_CAR_AGE'] = train['OWN_CAR_AGE'].apply(lambda x: 1 if x <= 10 else 0)\n",
    "\n",
    "\n",
    "train['ORGANIZATION_spmean'] = train[['ORGANIZATION_TYPE', 'TARGET']].groupby(['ORGANIZATION_TYPE']).mean()['TARGET']\n",
    "train['ORGANIZATION_TYPE'] = train['ORGANIZATION_spmean'].apply(lambda x: 1 if x > 0.08 else 0)\n"
   ]
  },
  {
   "cell_type": "code",
   "execution_count": 8,
   "metadata": {},
   "outputs": [],
   "source": []
  },
  {
   "cell_type": "code",
   "execution_count": 8,
   "metadata": {},
   "outputs": [],
   "source": [
    "numerical = [f for f in train.columns if train.dtypes[f] != 'object']\n",
    "numerical.remove('TARGET')\n",
    "categorical = [f for f in train.columns if train.dtypes[f] == 'object']"
   ]
  },
  {
   "cell_type": "code",
   "execution_count": 9,
   "metadata": {
    "collapsed": true
   },
   "outputs": [],
   "source": [
    "# f = pd.melt(train, value_vars=numerical)\n",
    "# g = sns.FacetGrid(f, col=\"variable\",  col_wrap=2, sharex=False, sharey=False)\n",
    "# g = g.map(sns.distplot, \"value\")"
   ]
  },
  {
   "cell_type": "code",
   "execution_count": 10,
   "metadata": {},
   "outputs": [],
   "source": [
    "for c in categorical:\n",
    "    train[c] = train[c].astype('category')\n",
    "    if train[c].isnull().any():\n",
    "        train[c] = train[c].cat.add_categories(['MISSING'])\n",
    "        train[c] = train[c].fillna('MISSING')"
   ]
  },
  {
   "cell_type": "code",
   "execution_count": 11,
   "metadata": {
    "collapsed": true
   },
   "outputs": [],
   "source": [
    "def boxplot(x, y, **kwargs):\n",
    "    sns.boxplot(x=x, y=y)\n",
    "    x=plt.xticks(rotation=90)\n",
    "# f = pd.melt(train, id_vars=['TARGET'], value_vars=categorical)\n",
    "# g = sns.FacetGrid(f, col=\"variable\",  col_wrap=2, sharex=False, sharey=False, size=5)\n",
    "# g = g.map(boxplot, \"value\", \"TARGET\")"
   ]
  },
  {
   "cell_type": "code",
   "execution_count": 12,
   "metadata": {},
   "outputs": [],
   "source": [
    "def encode(frame, feature):\n",
    "    ordering = pd.DataFrame()\n",
    "    ordering['val'] = frame[feature].unique()\n",
    "    ordering.index = ordering.val\n",
    "    # ordering['spmean'] = frame[[feature, 'TARGET']].groupby(feature).mean()['TARGET']\n",
    "    # ordering = ordering.sort_values('spmean')\n",
    "    ordering['ordering'] = range(1, ordering.shape[0]+1)\n",
    "    ordering = ordering['ordering'].to_dict()\n",
    "\n",
    "    for cat, o in ordering.items():\n",
    "        frame.loc[frame[feature] == cat, feature+'_E'] = o\n",
    "\n",
    "cate_encoded = []\n",
    "for q in categorical:\n",
    "    encode(train, q)\n",
    "    encode(test, q)\n",
    "    cate_encoded.append(q+'_E')\n",
    "# print(cate_encoded)"
   ]
  },
  {
   "cell_type": "code",
   "execution_count": 13,
   "metadata": {
    "collapsed": true
   },
   "outputs": [],
   "source": [
    "def spearman(frame, features):\n",
    "    spr = pd.DataFrame()\n",
    "    spr['feature'] = features\n",
    "    spr['spearman'] = [frame[f].corr(frame['TARGET'], 'spearman') for f in features]\n",
    "    spr = spr.sort_values('spearman')\n",
    "    plt.figure(figsize=(6, 0.25*len(features)))\n",
    "    sns.barplot(data=spr, y='feature', x='spearman', orient='h')\n",
    "\n",
    "features = numerical + cate_encoded\n",
    "# spearman(train, features)"
   ]
  },
  {
   "cell_type": "code",
   "execution_count": 14,
   "metadata": {
    "collapsed": true
   },
   "outputs": [],
   "source": [
    "def pairplot(x, y, **kwargs):\n",
    "    ax = plt.gca()\n",
    "    ts = pd.DataFrame1({'time': x, 'val': y})\n",
    "    ts = ts.groupby('time').mean()\n",
    "    ts.plot(ax=ax)\n",
    "    plt.xticks(rotation=90)\n",
    "\n",
    "# f = pd.melt(train, id_vars=['TARGET'], value_vars=numerical+cate_encoded)\n",
    "# g = sns.FacetGrid(f, col=\"variable\",  col_wrap=2, sharex=False, sharey=False, size=5)\n",
    "# g = g.map(pairplot, \"value\", \"TARGET\")"
   ]
  },
  {
   "cell_type": "code",
   "execution_count": 15,
   "metadata": {},
   "outputs": [],
   "source": [
    "def error(actual, predicted):\n",
    "    actual = np.log(actual)\n",
    "    predicted = np.log(predicted)\n",
    "    return np.sqrt(np.sum(np.square(actual-predicted))/len(actual))\n",
    "\n",
    "def log_transform(feature):\n",
    "    train[feature] = np.log1p(train[feature].values)\n",
    "\n",
    "def quadratic(feature):\n",
    "    train[feature+'2'] = train[feature]**2"
   ]
  },
  {
   "cell_type": "code",
   "execution_count": 16,
   "metadata": {},
   "outputs": [],
   "source": [
    ""
   ]
  },
  {
   "cell_type": "code",
   "execution_count": 17,
   "metadata": {},
   "outputs": [],
   "source": [
    "split = StratifiedShuffleSplit(n_splits=5, test_size=0.2, random_state=42, )\n",
    "for train_index, test_index in split.split(train, train[\"NAME_INCOME_TYPE\"]):\n",
    "    train_set = train.loc[train_index]\n",
    "    test_set = train.loc[test_index]"
   ]
  },
  {
   "cell_type": "code",
   "execution_count": 18,
   "metadata": {},
   "outputs": [],
   "source": [
    "features = numerical + cate_encoded\n",
    "# X_train = train[features].fillna(0.).values\n",
    "# y_train = train['TARGET'].values\n",
    "# X_test = test[features].fillna(0.).values\n",
    "\n",
    "\n",
    "X_train = train_set[features].fillna(0.).values\n",
    "y_train = train_set['TARGET'].values\n",
    "X_test = test_set[features].fillna(0.).values\n",
    "y_test = test_set['TARGET'].values"
   ]
  },
  {
   "cell_type": "code",
   "execution_count": 24,
   "metadata": {},
   "outputs": [],
   "source": [
    "from imblearn.over_sampling import SMOTE\n",
    "X_resampled, y_resampled = SMOTE().fit_sample(X_train, y_train)\n"
   ]
  },
  {
   "cell_type": "code",
   "execution_count": 25,
   "metadata": {},
   "outputs": [
    {
     "data": {
      "text/plain": [
       "0.6000202516589057"
      ]
     },
     "execution_count": 25,
     "metadata": {},
     "output_type": "execute_result"
    }
   ],
   "source": [
    "from sklearn import datasets\n",
    "from sklearn.feature_selection import RFE\n",
    "from sklearn.linear_model import LogisticRegression\n",
    "from sklearn.metrics import roc_auc_score\n",
    "\n",
    "\n",
    "logreg = LogisticRegression()\n",
    "logreg.fit(X_resampled, y_resampled)\n",
    "y_pred = logreg.predict_proba(X_test)[:,1]\n",
    "roc_auc_score(y_test, y_pred)"
   ]
  },
  {
   "cell_type": "code",
   "execution_count": 20,
   "metadata": {},
   "outputs": [],
   "source": [
    ""
   ]
  },
  {
   "cell_type": "code",
   "execution_count": 29,
   "metadata": {},
   "outputs": [],
   "source": [
    "from sklearn.ensemble import RandomForestClassifier\n",
    "from sklearn.model_selection import GridSearchCV\n",
    "\n",
    "rf = RandomForestClassifier(n_estimators=500, max_leaf_nodes=16, n_jobs=-1, random_state=42)\n",
    "# rf.fit(X_resampled, y_resampled)\n",
    "# y_pred_rf = rf.predict_proba(X_test)[:, 1]\n",
    "# roc_auc_score(y_test, y_pred_rf)\n",
    "\n",
    "\n",
    "param_grid = {\n",
    "    'n_estimators': [200, 500],\n",
    "    'max_features': ['auto', 'sqrt', 'log2'],\n",
    "    'max_depth' : [6,7,8],\n",
    "    'criterion' :['gini', 'entropy']\n",
    "}\n",
    "\n",
    "CV_rfc = GridSearchCV(estimator=rf, param_grid=param_grid, cv= 5)\n",
    "CV_rfc.fit(X_resampled, y_resampled)\n",
    "CV_rfc.best_params_\n",
    "\n",
    "# y_pred_rf = rf.predict_proba(X_test)[:, 1]\n",
    "# roc_auc_score(y_test, y_pred_rf)"
   ]
  },
  {
   "cell_type": "code",
   "execution_count": 22,
   "metadata": {},
   "outputs": [],
   "source": []
  },
  {
   "cell_type": "code",
   "execution_count": 22,
   "metadata": {},
   "outputs": [],
   "source": []
  },
  {
   "cell_type": "code",
   "execution_count": 24,
   "metadata": {},
   "outputs": [],
   "source": [
    ""
   ]
  },
  {
   "cell_type": "code",
   "execution_count": 22,
   "metadata": {},
   "outputs": [],
   "source": []
  },
  {
   "cell_type": "code",
   "execution_count": 22,
   "metadata": {},
   "outputs": [],
   "source": []
  },
  {
   "cell_type": "code",
   "execution_count": 22,
   "metadata": {},
   "outputs": [],
   "source": []
  },
  {
   "cell_type": "code",
   "execution_count": 22,
   "metadata": {},
   "outputs": [],
   "source": []
  },
  {
   "cell_type": "code",
   "execution_count": 22,
   "metadata": {},
   "outputs": [],
   "source": []
  },
  {
   "cell_type": "code",
   "execution_count": 22,
   "metadata": {},
   "outputs": [],
   "source": [
    "# my_submission = pd.DataFrame({'SK_ID_CURR': test.SK_ID_CURR, 'TARGET': y_pred})\n",
    "# my_submission.to_csv('submission.csv', index=False)"
   ]
  }
 ],
 "metadata": {
  "kernelspec": {
   "display_name": "Python 3",
   "language": "python",
   "name": "python3"
  },
  "language_info": {
   "codemirror_mode": {
    "name": "ipython",
    "version": 3
   },
   "file_extension": ".py",
   "mimetype": "text/x-python",
   "name": "python",
   "nbconvert_exporter": "python",
   "pygments_lexer": "ipython3",
   "version": "3.6.4"
  }
 },
 "nbformat": 4,
 "nbformat_minor": 1
}
