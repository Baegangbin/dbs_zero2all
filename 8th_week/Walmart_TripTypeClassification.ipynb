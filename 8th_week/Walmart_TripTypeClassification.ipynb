{
 "cells": [
  {
   "cell_type": "code",
   "execution_count": 2,
   "metadata": {},
   "outputs": [],
   "source": [
    "import numpy as np\n",
    "import pandas as pd\n",
    "import os\n",
    "import matplotlib.pyplot as plt\n",
    "from scipy.stats import gaussian_kde\n",
    "import time\n",
    "import seaborn as sns \n",
    "%matplotlib inline"
   ]
  },
  {
   "cell_type": "code",
   "execution_count": 3,
   "metadata": {},
   "outputs": [
    {
     "data": {
      "text/html": [
       "<div>\n",
       "<style scoped>\n",
       "    .dataframe tbody tr th:only-of-type {\n",
       "        vertical-align: middle;\n",
       "    }\n",
       "\n",
       "    .dataframe tbody tr th {\n",
       "        vertical-align: top;\n",
       "    }\n",
       "\n",
       "    .dataframe thead th {\n",
       "        text-align: right;\n",
       "    }\n",
       "</style>\n",
       "<table border=\"1\" class=\"dataframe\">\n",
       "  <thead>\n",
       "    <tr style=\"text-align: right;\">\n",
       "      <th></th>\n",
       "      <th>TripType</th>\n",
       "      <th>VisitNumber</th>\n",
       "      <th>Weekday</th>\n",
       "      <th>Upc</th>\n",
       "      <th>ScanCount</th>\n",
       "      <th>DepartmentDescription</th>\n",
       "      <th>FinelineNumber</th>\n",
       "    </tr>\n",
       "  </thead>\n",
       "  <tbody>\n",
       "    <tr>\n",
       "      <th>0</th>\n",
       "      <td>999</td>\n",
       "      <td>5</td>\n",
       "      <td>Friday</td>\n",
       "      <td>6.811315e+10</td>\n",
       "      <td>-1</td>\n",
       "      <td>FINANCIAL SERVICES</td>\n",
       "      <td>1000.0</td>\n",
       "    </tr>\n",
       "    <tr>\n",
       "      <th>1</th>\n",
       "      <td>30</td>\n",
       "      <td>7</td>\n",
       "      <td>Friday</td>\n",
       "      <td>6.053882e+10</td>\n",
       "      <td>1</td>\n",
       "      <td>SHOES</td>\n",
       "      <td>8931.0</td>\n",
       "    </tr>\n",
       "    <tr>\n",
       "      <th>2</th>\n",
       "      <td>30</td>\n",
       "      <td>7</td>\n",
       "      <td>Friday</td>\n",
       "      <td>7.410811e+09</td>\n",
       "      <td>1</td>\n",
       "      <td>PERSONAL CARE</td>\n",
       "      <td>4504.0</td>\n",
       "    </tr>\n",
       "    <tr>\n",
       "      <th>3</th>\n",
       "      <td>26</td>\n",
       "      <td>8</td>\n",
       "      <td>Friday</td>\n",
       "      <td>2.238404e+09</td>\n",
       "      <td>2</td>\n",
       "      <td>PAINT AND ACCESSORIES</td>\n",
       "      <td>3565.0</td>\n",
       "    </tr>\n",
       "    <tr>\n",
       "      <th>4</th>\n",
       "      <td>26</td>\n",
       "      <td>8</td>\n",
       "      <td>Friday</td>\n",
       "      <td>2.006614e+09</td>\n",
       "      <td>2</td>\n",
       "      <td>PAINT AND ACCESSORIES</td>\n",
       "      <td>1017.0</td>\n",
       "    </tr>\n",
       "  </tbody>\n",
       "</table>\n",
       "</div>"
      ],
      "text/plain": [
       "   TripType  VisitNumber Weekday           Upc  ScanCount  \\\n",
       "0       999            5  Friday  6.811315e+10         -1   \n",
       "1        30            7  Friday  6.053882e+10          1   \n",
       "2        30            7  Friday  7.410811e+09          1   \n",
       "3        26            8  Friday  2.238404e+09          2   \n",
       "4        26            8  Friday  2.006614e+09          2   \n",
       "\n",
       "   DepartmentDescription  FinelineNumber  \n",
       "0     FINANCIAL SERVICES          1000.0  \n",
       "1                  SHOES          8931.0  \n",
       "2          PERSONAL CARE          4504.0  \n",
       "3  PAINT AND ACCESSORIES          3565.0  \n",
       "4  PAINT AND ACCESSORIES          1017.0  "
      ]
     },
     "execution_count": 3,
     "metadata": {},
     "output_type": "execute_result"
    }
   ],
   "source": [
    "df_train = pd.read_csv(\"../8th_week/data/train2.csv\")\n",
    "df_test = pd.read_csv(\"../8th_week/data/test2.csv\")\n",
    "df_train.head()\n",
    "#df_test.head()"
   ]
  },
  {
   "cell_type": "code",
   "execution_count": 4,
   "metadata": {},
   "outputs": [
    {
     "name": "stdout",
     "output_type": "stream",
     "text": [
      "<class 'pandas.core.frame.DataFrame'>\n",
      "RangeIndex: 647054 entries, 0 to 647053\n",
      "Data columns (total 7 columns):\n",
      "TripType                 647054 non-null int64\n",
      "VisitNumber              647054 non-null int64\n",
      "Weekday                  647054 non-null object\n",
      "Upc                      642925 non-null float64\n",
      "ScanCount                647054 non-null int64\n",
      "DepartmentDescription    645693 non-null object\n",
      "FinelineNumber           642925 non-null float64\n",
      "dtypes: float64(2), int64(3), object(2)\n",
      "memory usage: 34.6+ MB\n"
     ]
    }
   ],
   "source": [
    "df_train.info()"
   ]
  },
  {
   "cell_type": "code",
   "execution_count": 5,
   "metadata": {},
   "outputs": [
    {
     "data": {
      "text/plain": [
       "40     174164\n",
       "39      95504\n",
       "37      38954\n",
       "38      29565\n",
       "25      27609\n",
       "7       23199\n",
       "8       22844\n",
       "36      21990\n",
       "44      20424\n",
       "42      19468\n",
       "24      18015\n",
       "999     17590\n",
       "9       16820\n",
       "32      13843\n",
       "5       13836\n",
       "35      12501\n",
       "33       9918\n",
       "15       7147\n",
       "3        6827\n",
       "43       6383\n",
       "41       5508\n",
       "30       4861\n",
       "34       4751\n",
       "27       4613\n",
       "21       4032\n",
       "22       3592\n",
       "6        3405\n",
       "20       3116\n",
       "18       2977\n",
       "28       2664\n",
       "26       2507\n",
       "12       2108\n",
       "29       2105\n",
       "31       1765\n",
       "19       1188\n",
       "4         901\n",
       "23        325\n",
       "14         35\n",
       "Name: TripType, dtype: int64"
      ]
     },
     "execution_count": 5,
     "metadata": {},
     "output_type": "execute_result"
    }
   ],
   "source": [
    "df_train[\"TripType\"].value_counts()"
   ]
  },
  {
   "cell_type": "code",
   "execution_count": 6,
   "metadata": {},
   "outputs": [
    {
     "data": {
      "text/plain": [
       "(array([0.00976722, 0.        , 0.        , 0.        , 0.        ,\n",
       "        0.        , 0.        , 0.        , 0.        , 0.00027294]),\n",
       " array([  3. , 102.6, 202.2, 301.8, 401.4, 501. , 600.6, 700.2, 799.8,\n",
       "        899.4, 999. ]),\n",
       " <a list of 10 Patch objects>)"
      ]
     },
     "execution_count": 6,
     "metadata": {},
     "output_type": "execute_result"
    },
    {
     "data": {
      "image/png": "[encoded data removed]",
      "text/plain": [
       "<matplotlib.figure.Figure at 0x1a0fa63390>"
      ]
     },
     "metadata": {},
     "output_type": "display_data"
    }
   ],
   "source": [
    "plt.hist(df_train.TripType, normed=True)"
   ]
  },
  {
   "cell_type": "code",
   "execution_count": 7,
   "metadata": {},
   "outputs": [
    {
     "data": {
      "text/plain": [
       "72439     209\n",
       "88011     151\n",
       "9181      113\n",
       "60971     112\n",
       "65792     111\n",
       "80318     104\n",
       "178154     98\n",
       "181457     97\n",
       "84786      97\n",
       "59358      96\n",
       "179810     94\n",
       "78556      94\n",
       "79977      94\n",
       "143651     93\n",
       "170029     93\n",
       "97101      91\n",
       "105804     91\n",
       "92740      89\n",
       "139425     89\n",
       "74005      89\n",
       "119639     89\n",
       "49461      86\n",
       "107756     86\n",
       "145744     86\n",
       "36506      86\n",
       "58240      85\n",
       "105052     84\n",
       "55716      83\n",
       "80051      82\n",
       "94422      82\n",
       "         ... \n",
       "106065      1\n",
       "43808       1\n",
       "80658       1\n",
       "7777        1\n",
       "119567      1\n",
       "121614      1\n",
       "38183       1\n",
       "134516      1\n",
       "69908       1\n",
       "38000       1\n",
       "76051       1\n",
       "117007      1\n",
       "114958      1\n",
       "121101      1\n",
       "112897      1\n",
       "151420      1\n",
       "161659      1\n",
       "145267      1\n",
       "143216      1\n",
       "188270      1\n",
       "28472       1\n",
       "93263       1\n",
       "57134       1\n",
       "50989       1\n",
       "61224       1\n",
       "67349       1\n",
       "117851      1\n",
       "148861      1\n",
       "23657       1\n",
       "2047        1\n",
       "Name: VisitNumber, Length: 95674, dtype: int64"
      ]
     },
     "execution_count": 7,
     "metadata": {},
     "output_type": "execute_result"
    }
   ],
   "source": [
    "df_train[\"VisitNumber\"].value_counts() ### personal number"
   ]
  },
  {
   "cell_type": "code",
   "execution_count": 8,
   "metadata": {},
   "outputs": [
    {
     "data": {
      "text/plain": [
       "Sunday       133975\n",
       "Saturday     122096\n",
       "Friday        96247\n",
       "Monday        83130\n",
       "Tuesday       72529\n",
       "Wednesday     71115\n",
       "Thursday      67962\n",
       "Name: Weekday, dtype: int64"
      ]
     },
     "execution_count": 8,
     "metadata": {},
     "output_type": "execute_result"
    }
   ],
   "source": [
    "df_train[\"Weekday\"].value_counts()"
   ]
  },
  {
   "cell_type": "code",
   "execution_count": 9,
   "metadata": {},
   "outputs": [
    {
     "data": {
      "text/plain": [
       "(array([0.24791079, 0.21412432, 0.        , 0.31449204, 0.        ,\n",
       "        0.34508969, 0.17505494, 0.        , 0.18681851, 0.18317637]),\n",
       " array([0. , 0.6, 1.2, 1.8, 2.4, 3. , 3.6, 4.2, 4.8, 5.4, 6. ]),\n",
       " <a list of 10 Patch objects>)"
      ]
     },
     "execution_count": 9,
     "metadata": {},
     "output_type": "execute_result"
    },
    {
     "data": {
      "image/png": "[encoded data removed]",
      "text/plain": [
       "<matplotlib.figure.Figure at 0x109c20668>"
      ]
     },
     "metadata": {},
     "output_type": "display_data"
    }
   ],
   "source": [
    "plt.hist(df_train.Weekday, normed=True)"
   ]
  },
  {
   "cell_type": "code",
   "execution_count": 10,
   "metadata": {},
   "outputs": [
    {
     "data": {
      "text/plain": [
       "4.011000e+03    7657\n",
       "6.053886e+10    2501\n",
       "7.874235e+09    2067\n",
       "7.874235e+09    1883\n",
       "4.046000e+03    1652\n",
       "6.811311e+10    1515\n",
       "6.053887e+10    1487\n",
       "3.338320e+09    1405\n",
       "4.087000e+03    1370\n",
       "6.053887e+10    1343\n",
       "4.900000e+09    1018\n",
       "4.062000e+03     973\n",
       "4.065000e+03     953\n",
       "4.900003e+09     896\n",
       "3.338365e+09     856\n",
       "7.874235e+09     828\n",
       "4.900005e+09     815\n",
       "6.811316e+10     778\n",
       "6.053890e+10     778\n",
       "4.078000e+03     750\n",
       "6.992216e+10     745\n",
       "7.874211e+09     719\n",
       "4.093000e+03     698\n",
       "4.900001e+09     697\n",
       "2.096650e+10     686\n",
       "6.053882e+10     644\n",
       "7.874235e+09     622\n",
       "4.051000e+03     620\n",
       "7.225004e+09     618\n",
       "3.151000e+03     561\n",
       "                ... \n",
       "7.413001e+09       1\n",
       "8.806156e+11       1\n",
       "7.278511e+09       1\n",
       "7.144151e+10       1\n",
       "6.811311e+10       1\n",
       "7.169143e+09       1\n",
       "7.583857e+10       1\n",
       "7.943761e+10       1\n",
       "7.871544e+09       1\n",
       "2.700042e+09       1\n",
       "7.659406e+10       1\n",
       "7.163396e+07       1\n",
       "7.595452e+10       1\n",
       "7.617070e+10       1\n",
       "8.434540e+10       1\n",
       "7.575587e+10       1\n",
       "4.402124e+09       1\n",
       "8.809378e+11       1\n",
       "8.108210e+10       1\n",
       "7.163405e+07       1\n",
       "8.511845e+09       1\n",
       "6.821022e+10       1\n",
       "2.898194e+09       1\n",
       "1.675132e+09       1\n",
       "8.888232e+10       1\n",
       "8.437471e+10       1\n",
       "7.644011e+09       1\n",
       "1.119231e+09       1\n",
       "7.670528e+10       1\n",
       "8.669413e+09       1\n",
       "Name: Upc, Length: 97714, dtype: int64"
      ]
     },
     "execution_count": 10,
     "metadata": {},
     "output_type": "execute_result"
    }
   ],
   "source": [
    "df_train[\"Upc\"].value_counts()"
   ]
  },
  {
   "cell_type": "code",
   "execution_count": 11,
   "metadata": {},
   "outputs": [
    {
     "data": {
      "text/plain": [
       "5501.0    8244\n",
       "1508.0    5121\n",
       "135.0     4538\n",
       "808.0     4401\n",
       "0.0       3837\n",
       "9546.0    2997\n",
       "1407.0    2848\n",
       "4606.0    2753\n",
       "115.0     2723\n",
       "203.0     2639\n",
       "100.0     2634\n",
       "3004.0    2607\n",
       "4010.0    2531\n",
       "3601.0    2465\n",
       "3600.0    2455\n",
       "110.0     2237\n",
       "3120.0    2074\n",
       "3555.0    2056\n",
       "8101.0    2037\n",
       "5017.0    1980\n",
       "801.0     1946\n",
       "7010.0    1935\n",
       "5620.0    1896\n",
       "202.0     1895\n",
       "9100.0    1885\n",
       "4624.0    1834\n",
       "3467.0    1751\n",
       "7955.0    1749\n",
       "9101.0    1721\n",
       "3702.0    1655\n",
       "          ... \n",
       "6213.0       1\n",
       "2289.0       1\n",
       "5380.0       1\n",
       "8539.0       1\n",
       "7231.0       1\n",
       "4314.0       1\n",
       "5578.0       1\n",
       "8554.0       1\n",
       "1152.0       1\n",
       "7773.0       1\n",
       "8565.0       1\n",
       "6177.0       1\n",
       "1765.0       1\n",
       "5564.0       1\n",
       "238.0        1\n",
       "5217.0       1\n",
       "5218.0       1\n",
       "3496.0       1\n",
       "1791.0       1\n",
       "3492.0       1\n",
       "7159.0       1\n",
       "5518.0       1\n",
       "2861.0       1\n",
       "6227.0       1\n",
       "4495.0       1\n",
       "2311.0       1\n",
       "524.0        1\n",
       "7130.0       1\n",
       "2847.0       1\n",
       "7313.0       1\n",
       "Name: FinelineNumber, Length: 5195, dtype: int64"
      ]
     },
     "execution_count": 11,
     "metadata": {},
     "output_type": "execute_result"
    }
   ],
   "source": [
    "df_train[\"FinelineNumber\"].value_counts()"
   ]
  },
  {
   "cell_type": "code",
   "execution_count": 12,
   "metadata": {},
   "outputs": [
    {
     "data": {
      "text/plain": [
       "GROCERY DRY GOODS              70402\n",
       "DSD GROCERY                    68332\n",
       "PRODUCE                        51115\n",
       "DAIRY                          43820\n",
       "PERSONAL CARE                  41969\n",
       "IMPULSE MERCHANDISE            28712\n",
       "HOUSEHOLD CHEMICALS/SUPP       24880\n",
       "PHARMACY OTC                   23306\n",
       "FROZEN FOODS                   21101\n",
       "HOUSEHOLD PAPER GOODS          16274\n",
       "COMM BREAD                     15244\n",
       "BEAUTY                         14865\n",
       "MENS WEAR                      12250\n",
       "FINANCIAL SERVICES             10723\n",
       "INFANT CONSUMABLE HARDLINES    10646\n",
       "SERVICE DELI                   10127\n",
       "CANDY, TOBACCO, COOKIES         9808\n",
       "PETS AND SUPPLIES               9761\n",
       "MEAT - FRESH & FROZEN           9477\n",
       "PRE PACKED DELI                 9052\n",
       "LADIESWEAR                      8721\n",
       "CELEBRATION                     8698\n",
       "COOK AND DINE                   7600\n",
       "BAKERY                          7168\n",
       "OFFICE SUPPLIES                 6578\n",
       "HOME MANAGEMENT                 6349\n",
       "TOYS                            6107\n",
       "SHOES                           6099\n",
       "INFANT APPAREL                  6051\n",
       "AUTOMOTIVE                      5414\n",
       "                               ...  \n",
       "LIQUOR,WINE,BEER                3861\n",
       "ELECTRONICS                     3190\n",
       "PHARMACY RX                     2922\n",
       "HORTICULTURE AND ACCESS         2893\n",
       "JEWELRY AND SUNGLASSES          2526\n",
       "SLEEPWEAR/FOUNDATIONS           2376\n",
       "BEDDING                         2307\n",
       "BRAS & SHAPEWEAR                2036\n",
       "MEDIA AND GAMING                1993\n",
       "SEAFOOD                         1923\n",
       "WIRELESS                        1898\n",
       "PAINT AND ACCESSORIES           1720\n",
       "ACCESSORIES                     1318\n",
       "BOOKS AND MAGAZINES              992\n",
       "SWIMWEAR/OUTERWEAR               860\n",
       "LADIES SOCKS                     775\n",
       "PLAYERS AND ELECTRONICS          686\n",
       "PLUS AND MATERNITY               591\n",
       "OPTICAL - FRAMES                 579\n",
       "FURNITURE                        477\n",
       "SHEER HOSIERY                    434\n",
       "1-HR PHOTO                       394\n",
       "MENSWEAR                         338\n",
       "CAMERAS AND SUPPLIES             221\n",
       "OPTICAL - LENSES                  85\n",
       "LARGE HOUSEHOLD GOODS             77\n",
       "CONCEPT STORES                    35\n",
       "SEASONAL                          29\n",
       "OTHER DEPARTMENTS                 29\n",
       "HEALTH AND BEAUTY AIDS             2\n",
       "Name: DepartmentDescription, Length: 68, dtype: int64"
      ]
     },
     "execution_count": 12,
     "metadata": {},
     "output_type": "execute_result"
    }
   ],
   "source": [
    "df_train[\"DepartmentDescription\"].value_counts()"
   ]
  },
  {
   "cell_type": "code",
   "execution_count": 13,
   "metadata": {},
   "outputs": [
    {
     "data": {
      "text/plain": [
       "(array([0.00797779, 0.00635323, 0.03256206, 0.02548519, 0.01892628,\n",
       "        0.0077421 , 0.00797188, 0.01813468, 0.0167099 , 0.00519572]),\n",
       " array([-1. ,  5.8, 12.6, 19.4, 26.2, 33. , 39.8, 46.6, 53.4, 60.2, 67. ]),\n",
       " <a list of 10 Patch objects>)"
      ]
     },
     "execution_count": 13,
     "metadata": {},
     "output_type": "execute_result"
    },
    {
     "data": {
      "image/png": "[encoded data removed]",
      "text/plain": [
       "<matplotlib.figure.Figure at 0x10cc2a550>"
      ]
     },
     "metadata": {},
     "output_type": "display_data"
    }
   ],
   "source": [
    "plt.hist(df_train.DepartmentDescription, normed=True)"
   ]
  },
  {
   "cell_type": "code",
   "execution_count": 14,
   "metadata": {
    "scrolled": false
   },
   "outputs": [],
   "source": [
    "pivot_table = pd.pivot_table(df_train, index=[\"VisitNumber\"], columns=[\"DepartmentDescription\"], fill_value=0, aggfunc=len, margins=True)"
   ]
  },
  {
   "cell_type": "code",
   "execution_count": 15,
   "metadata": {},
   "outputs": [
    {
     "data": {
      "text/html": [
       "<div>\n",
       "<style scoped>\n",
       "    .dataframe tbody tr th:only-of-type {\n",
       "        vertical-align: middle;\n",
       "    }\n",
       "\n",
       "    .dataframe tbody tr th {\n",
       "        vertical-align: top;\n",
       "    }\n",
       "\n",
       "    .dataframe thead tr th {\n",
       "        text-align: left;\n",
       "    }\n",
       "\n",
       "    .dataframe thead tr:last-of-type th {\n",
       "        text-align: right;\n",
       "    }\n",
       "</style>\n",
       "<table border=\"1\" class=\"dataframe\">\n",
       "  <thead>\n",
       "    <tr>\n",
       "      <th></th>\n",
       "      <th colspan=\"10\" halign=\"left\">FinelineNumber</th>\n",
       "      <th>...</th>\n",
       "      <th colspan=\"10\" halign=\"left\">Weekday</th>\n",
       "    </tr>\n",
       "    <tr>\n",
       "      <th>DepartmentDescription</th>\n",
       "      <th>1-HR PHOTO</th>\n",
       "      <th>ACCESSORIES</th>\n",
       "      <th>AUTOMOTIVE</th>\n",
       "      <th>BAKERY</th>\n",
       "      <th>BATH AND SHOWER</th>\n",
       "      <th>BEAUTY</th>\n",
       "      <th>BEDDING</th>\n",
       "      <th>BOOKS AND MAGAZINES</th>\n",
       "      <th>BOYS WEAR</th>\n",
       "      <th>BRAS &amp; SHAPEWEAR</th>\n",
       "      <th>...</th>\n",
       "      <th>SEASONAL</th>\n",
       "      <th>SERVICE DELI</th>\n",
       "      <th>SHEER HOSIERY</th>\n",
       "      <th>SHOES</th>\n",
       "      <th>SLEEPWEAR/FOUNDATIONS</th>\n",
       "      <th>SPORTING GOODS</th>\n",
       "      <th>SWIMWEAR/OUTERWEAR</th>\n",
       "      <th>TOYS</th>\n",
       "      <th>WIRELESS</th>\n",
       "      <th>All</th>\n",
       "    </tr>\n",
       "    <tr>\n",
       "      <th>VisitNumber</th>\n",
       "      <th></th>\n",
       "      <th></th>\n",
       "      <th></th>\n",
       "      <th></th>\n",
       "      <th></th>\n",
       "      <th></th>\n",
       "      <th></th>\n",
       "      <th></th>\n",
       "      <th></th>\n",
       "      <th></th>\n",
       "      <th></th>\n",
       "      <th></th>\n",
       "      <th></th>\n",
       "      <th></th>\n",
       "      <th></th>\n",
       "      <th></th>\n",
       "      <th></th>\n",
       "      <th></th>\n",
       "      <th></th>\n",
       "      <th></th>\n",
       "      <th></th>\n",
       "    </tr>\n",
       "  </thead>\n",
       "  <tbody>\n",
       "    <tr>\n",
       "      <th>12</th>\n",
       "      <td>0</td>\n",
       "      <td>0</td>\n",
       "      <td>0</td>\n",
       "      <td>0</td>\n",
       "      <td>0</td>\n",
       "      <td>0</td>\n",
       "      <td>0</td>\n",
       "      <td>0</td>\n",
       "      <td>2</td>\n",
       "      <td>0</td>\n",
       "      <td>...</td>\n",
       "      <td>0</td>\n",
       "      <td>0</td>\n",
       "      <td>0</td>\n",
       "      <td>1</td>\n",
       "      <td>0</td>\n",
       "      <td>0</td>\n",
       "      <td>0</td>\n",
       "      <td>0</td>\n",
       "      <td>0</td>\n",
       "      <td>7.0</td>\n",
       "    </tr>\n",
       "  </tbody>\n",
       "</table>\n",
       "<p>1 rows × 345 columns</p>\n",
       "</div>"
      ],
      "text/plain": [
       "                      FinelineNumber                                \\\n",
       "DepartmentDescription     1-HR PHOTO ACCESSORIES AUTOMOTIVE BAKERY   \n",
       "VisitNumber                                                          \n",
       "12                                 0           0          0      0   \n",
       "\n",
       "                                                                          \\\n",
       "DepartmentDescription BATH AND SHOWER BEAUTY BEDDING BOOKS AND MAGAZINES   \n",
       "VisitNumber                                                                \n",
       "12                                  0      0       0                   0   \n",
       "\n",
       "                                                 ...   Weekday               \\\n",
       "DepartmentDescription BOYS WEAR BRAS & SHAPEWEAR ...  SEASONAL SERVICE DELI   \n",
       "VisitNumber                                      ...                          \n",
       "12                            2                0 ...         0            0   \n",
       "\n",
       "                                                                 \\\n",
       "DepartmentDescription SHEER HOSIERY SHOES SLEEPWEAR/FOUNDATIONS   \n",
       "VisitNumber                                                       \n",
       "12                                0     1                     0   \n",
       "\n",
       "                                                                            \n",
       "DepartmentDescription SPORTING GOODS SWIMWEAR/OUTERWEAR TOYS WIRELESS  All  \n",
       "VisitNumber                                                                 \n",
       "12                                 0                  0    0        0  7.0  \n",
       "\n",
       "[1 rows x 345 columns]"
      ]
     },
     "execution_count": 15,
     "metadata": {},
     "output_type": "execute_result"
    }
   ],
   "source": [
    "pivot_table.query('VisitNumber == 12')"
   ]
  },
  {
   "cell_type": "code",
   "execution_count": null,
   "metadata": {},
   "outputs": [],
   "source": []
  },
  {
   "cell_type": "code",
   "execution_count": 18,
   "metadata": {},
   "outputs": [
    {
     "name": "stderr",
     "output_type": "stream",
     "text": [
      "/anaconda3/lib/python3.6/site-packages/mlxtend/frequent_patterns/apriori.py:102: RuntimeWarning: invalid value encountered in greater_equal\n",
      "  support_dict = {1: support[support >= min_support]}\n",
      "/anaconda3/lib/python3.6/site-packages/mlxtend/frequent_patterns/apriori.py:103: RuntimeWarning: invalid value encountered in greater_equal\n",
      "  itemset_dict = {1: ary_col_idx[support >= min_support].reshape(-1, 1)}\n"
     ]
    }
   ],
   "source": [
    "from mlxtend.frequent_patterns import apriori\n",
    "from mlxtend.frequent_patterns import association_rules\n",
    "\n",
    "frequent_itemsets = apriori(pivot_table, min_support=0.07, use_colnames=True)\n"
   ]
  },
  {
   "cell_type": "code",
   "execution_count": null,
   "metadata": {},
   "outputs": [],
   "source": [
    "rules = association_rules(frequent_itemsets, metric=\"lift\", min_threshold=1)\n",
    "rules.head()"
   ]
  },
  {
   "cell_type": "code",
   "execution_count": null,
   "metadata": {},
   "outputs": [],
   "source": []
  }
 ],
 "metadata": {
  "kernelspec": {
   "display_name": "Python 3",
   "language": "python",
   "name": "python3"
  },
  "language_info": {
   "codemirror_mode": {
    "name": "ipython",
    "version": 3
   },
   "file_extension": ".py",
   "mimetype": "text/x-python",
   "name": "python",
   "nbconvert_exporter": "python",
   "pygments_lexer": "ipython3",
   "version": "3.6.4"
  }
 },
 "nbformat": 4,
 "nbformat_minor": 2
}
